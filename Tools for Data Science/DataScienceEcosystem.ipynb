{
  "metadata": {
    "language_info": {
      "codemirror_mode": {
        "name": "python",
        "version": 3
      },
      "file_extension": ".py",
      "mimetype": "text/x-python",
      "name": "python",
      "nbconvert_exporter": "python",
      "pygments_lexer": "ipython3",
      "version": "3.8"
    },
    "kernelspec": {
      "name": "python",
      "display_name": "Python (Pyodide)",
      "language": "python"
    }
  },
  "nbformat_minor": 4,
  "nbformat": 4,
  "cells": [
    {
      "cell_type": "markdown",
      "source": "***Exercise 1: Create a Jupyter Notebook***\n##### Create a new Jupyter notebook called DataScienceEcosystem.ipynb",
      "metadata": {}
    },
    {
      "cell_type": "markdown",
      "source": "***Exercise 2: Create markdown cell with title of the notebook***",
      "metadata": {}
    },
    {
      "cell_type": "markdown",
      "source": "# Data Science Tools and Ecosystem",
      "metadata": {}
    },
    {
      "cell_type": "markdown",
      "source": "***Exercise 3 - Create a markdown cell for an introduction***",
      "metadata": {}
    },
    {
      "cell_type": "markdown",
      "source": "#### In this notebook, Data Science Tools and Ecosystem are summarized.\n",
      "metadata": {}
    },
    {
      "cell_type": "markdown",
      "source": "\n***Exercise 10 - Insert a markdown cell to list Objectives***\n\n",
      "metadata": {}
    },
    {
      "cell_type": "markdown",
      "source": "***Objectives:***  \n- List popular languages for Data Science\n- List commonly library used by Data Scientist\n- List popular tools for Data Science\n\n",
      "metadata": {}
    },
    {
      "cell_type": "markdown",
      "source": "\n",
      "metadata": {}
    },
    {
      "cell_type": "markdown",
      "source": "***Exercise 4 - Create a markdown cell to list data science languages***",
      "metadata": {}
    },
    {
      "cell_type": "markdown",
      "source": "##### Some of the popular languages that Data Scientists use are\n1. Python\n2. R\n3. SQL\n4. Julia\n",
      "metadata": {}
    },
    {
      "cell_type": "markdown",
      "source": "***Exercise 5 - Create a markdown cell to list data science libraries***",
      "metadata": {}
    },
    {
      "cell_type": "markdown",
      "source": "##### Some of the commonly used libraries used by Data Scientists include:\n1. Keras\n2. NumPy\n3. TensorFlow\n4. Matplotlib\n",
      "metadata": {}
    },
    {
      "cell_type": "markdown",
      "source": "\n***Exercise 6 - Create a markdown cell with a table of Data Science tools***",
      "metadata": {}
    },
    {
      "cell_type": "markdown",
      "source": "| Data Science Tools |\n| -------------|\n| Jupyter Notebook | \n| RStudio | \n| Visual Studio Code(VSCode) | ",
      "metadata": {}
    },
    {
      "cell_type": "markdown",
      "source": "***Exercise 7 - Create a markdown cell introducing arithmetic expression examples***\n\n",
      "metadata": {}
    },
    {
      "cell_type": "markdown",
      "source": "###  Below are a few examples of evaluating arithmetic expressions in Python\n\n",
      "metadata": {}
    },
    {
      "cell_type": "markdown",
      "source": "***Exercise 8 - Create a code cell to multiply and add numbers***\n",
      "metadata": {}
    },
    {
      "cell_type": "code",
      "source": "# This a simple arithmetic expression to mutiply then add integers\n(3*4)+5\n",
      "metadata": {
        "trusted": true
      },
      "execution_count": 7,
      "outputs": [
        {
          "execution_count": 7,
          "output_type": "execute_result",
          "data": {
            "text/plain": "17"
          },
          "metadata": {}
        }
      ]
    },
    {
      "cell_type": "markdown",
      "source": "***Exercise 9 - Create a code cell to convert minutes to hours***",
      "metadata": {}
    },
    {
      "cell_type": "code",
      "source": "#This will convert 200 minutes to hours by diving by 60\n200/60",
      "metadata": {
        "trusted": true
      },
      "execution_count": 10,
      "outputs": [
        {
          "execution_count": 10,
          "output_type": "execute_result",
          "data": {
            "text/plain": "3.3333333333333335"
          },
          "metadata": {}
        }
      ]
    },
    {
      "cell_type": "markdown",
      "source": "***Exercise 11 - Create a markdown cell to indicate the Author's name***",
      "metadata": {}
    },
    {
      "cell_type": "markdown",
      "source": "## Author\n##### Dafina D.",
      "metadata": {}
    }
  ]
}